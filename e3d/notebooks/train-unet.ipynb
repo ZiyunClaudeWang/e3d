{
 "cells": [
  {
   "cell_type": "code",
   "execution_count": null,
   "metadata": {},
   "outputs": [],
   "source": [
    "import os\n",
    "from dataclasses import dataclass\n",
    "from PIL import Image\n",
    "import numpy as np\n",
    "\n",
    "import torch\n",
    "import torch.nn as nn\n",
    "from torch import optim\n",
    "from torch.autograd import Variable\n",
    "from torch.utils.data import (\n",
    "    DataLoader, \n",
    "    Dataset, \n",
    "    ConcatDataset, \n",
    "    random_split\n",
    ")\n",
    "\n",
    "import matplotlib.pyplot as plt\n",
    "\n",
    "#import UNet\n",
    "from dataset import EvMaskDataset\n",
    "from utils.manager import RenderManager"
   ]
  },
  {
   "cell_type": "code",
   "execution_count": null,
   "metadata": {},
   "outputs": [],
   "source": [
    "#Set the device\n",
    "device = torch.device(\"cuda:0\" if torch.cuda.is_available() else \"cpu\")\n",
    "if device == \"cuda:0\": torch.cuda.set_device()"
   ]
  },
  {
   "cell_type": "markdown",
   "metadata": {},
   "source": [
    "### Params Dataclass"
   ]
  },
  {
   "cell_type": "code",
   "execution_count": null,
   "metadata": {},
   "outputs": [],
   "source": [
    "@dataclass\n",
    "class Params:\n",
    "    \n",
    "    #Dataset Params\n",
    "    train_dir: str = \"data/renders/train\"\n",
    "    \n",
    "    #Image Params\n",
    "    img_size: tuple = (128, 128)\n",
    "    \n",
    "    #Training Params\n",
    "    optimizer = optim.RMSprop #optim.Adam\n",
    "    batch_size: int = 1\n",
    "    epochs: int = 5\n",
    "    learning_rate: float = .0001\n",
    "    val_split: float = .2"
   ]
  },
  {
   "cell_type": "markdown",
   "metadata": {},
   "source": [
    "### Dataset"
   ]
  },
  {
   "cell_type": "code",
   "execution_count": null,
   "metadata": {},
   "outputs": [],
   "source": [
    "class EvMaskDataset(Dataset):\n",
    "    \n",
    "    def __init__(self, \n",
    "                 dir_num: int,\n",
    "                 image_params: Params,\n",
    "                 transforms: list = []):\n",
    "        \n",
    "        self.img_size = image_params.img_size\n",
    "        self.transforms = transforms\n",
    "        self.render_manager = RenderManager.from_directory(\n",
    "            dir_num = dir_num,\n",
    "            render_folder = Params.train_dir\n",
    "        )\n",
    " \n",
    "    def __len__(self):\n",
    "        return len(self.render_manager)\n",
    "    \n",
    "    def preprocess(self, img: Image):\n",
    "        \"\"\"Resize and normalize the images to range 0, 1\n",
    "        \"\"\"\n",
    "        img = img.resize(self.img_size)\n",
    "        \n",
    "        img_np = np.array(img)\n",
    "        \n",
    "        if len(img_np.shape) == 2:\n",
    "            img_np = np.expand_dims(img_np, axis=2)\n",
    "\n",
    "        # HWC to CHW\n",
    "        img_trans = img_np.transpose((2, 0, 1))\n",
    "        if img_trans.max() > 1:\n",
    "            img_trans = img_trans / 255\n",
    "        \n",
    "        return img_trans\n",
    "    \n",
    "    def __getitem__(self, index: int):\n",
    "        \n",
    "        mask = self.render_manager.get_image(\"silhouette\", index)\n",
    "        \n",
    "        event_frame = self.render_manager.get_event_frame(index)\n",
    "        \n",
    "        assert mask.size == event_frame.size, \\\n",
    "            \"Mask and event frame must be same size\"\n",
    "        \n",
    "        mask = torch.from_numpy(self.preprocess(mask)).type(torch.FloatTensor)\n",
    "        event_frame = torch.from_numpy(self.preprocess(event_frame)).type(torch.FloatTensor)\n",
    "        \n",
    "        return event_frame, mask\n",
    "           "
   ]
  },
  {
   "cell_type": "markdown",
   "metadata": {},
   "source": [
    "### Evaluation"
   ]
  },
  {
   "cell_type": "code",
   "execution_count": null,
   "metadata": {},
   "outputs": [],
   "source": [
    "from losses import DiceCoeffLoss\n",
    "\n",
    "def eval_seg_net(net, loader):\n",
    "    loss = 0\n",
    "    for X, y in loader:\n",
    "        X = Variable(X).cuda()\n",
    "        y = Variable(y).cuda()\n",
    "        X = X.to(device=device, dtype=torch.float)\n",
    "        y = y.to(device=device, dtype=torch.float)\n",
    "        with torch.no_grad():\n",
    "            out = net(X)\n",
    "        loss += DiceCoeffLoss().forward(out, y)\n",
    "    loss = loss / len(loader)\n",
    "    return loss"
   ]
  },
  {
   "cell_type": "code",
   "execution_count": null,
   "metadata": {},
   "outputs": [],
   "source": [
    "#Start by first loading the net\n",
    "unet = UNet(\n",
    "    n_channels = 1, \n",
    "    n_classes = 1, \n",
    "    bilinear=False\n",
    ").to(device=device)\n",
    "\n",
    "#Create Train and Val DataLoaders\n",
    "datasets = [EvMaskDataset(dir_num + 1, Params) for dir_num in range(len(os.listdir(Params.train_dir)) - 1)]\n",
    "dataset = ConcatDataset(datasets)\n",
    "\n",
    "val_size = int(len(dataset) * Params.val_split)\n",
    "train_size = len(dataset) - val_size\n",
    "train, val = random_split(dataset, (train_size, val_size))\n",
    "\n",
    "train_loader = DataLoader(\n",
    "    train,\n",
    "    batch_size = Params.batch_size,\n",
    "    shuffle = True,\n",
    "    num_workers = 1,\n",
    "    drop_last = True\n",
    ")\n",
    "val_loader = DataLoader(\n",
    "    val,\n",
    "    batch_size = Params.batch_size,\n",
    "    shuffle = False,\n",
    "    num_workers = 1,\n",
    "    drop_last = True\n",
    ")\n",
    "\n",
    "optimizer = Params.optimizer(\n",
    "    unet.parameters(),\n",
    "    lr = Params.learning_rate,\n",
    "    weight_decay = 1e-8,\n",
    "    momentum = 0.9\n",
    ")\n",
    "\n",
    "#Or Maybe just use a cross entropy loss - need to eval this\n",
    "if unet.n_classes > 1:\n",
    "    criterion = nn.CrossEntropyLoss()\n",
    "else:\n",
    "    criterion = nn.BCEWithLogitsLoss()\n"
   ]
  },
  {
   "cell_type": "code",
   "execution_count": null,
   "metadata": {},
   "outputs": [],
   "source": [
    "torch.cuda.memory_allocated()"
   ]
  },
  {
   "cell_type": "markdown",
   "metadata": {},
   "source": [
    "### Training Loop"
   ]
  },
  {
   "cell_type": "code",
   "execution_count": null,
   "metadata": {},
   "outputs": [],
   "source": [
    "iters = []\n",
    "train_losses = []\n",
    "val_losses = []\n",
    "\n",
    "step = 0\n",
    "min_loss = np.inf\n",
    "\n",
    "unet.train()\n",
    "for epoch in range(Params.epochs):\n",
    "    for i, (X, y) in enumerate(train_loader):\n",
    "        X = Variable(X).cuda()\n",
    "        y = Variable(y).cuda()\n",
    "        \n",
    "        #Casting variables to float\n",
    "        X = X.to(device=device, dtype=torch.float)\n",
    "        y = y.to(device=device, dtype=torch.float)\n",
    "        #print(X.shape)\n",
    "        #print(y.shape)\n",
    "        output = unet(X)\n",
    "        loss = criterion(output, y)\n",
    "\n",
    "        optimizer.zero_grad()\n",
    "        loss.backward()\n",
    "        optimizer.step()\n",
    "        \n",
    "        if i % 100 == 0:\n",
    "            iters.append(i)\n",
    "            train_losses.append(loss)\n",
    "            \n",
    "            unet.eval()\n",
    "            val_loss = eval_seg_net(unet, val_loader)\n",
    "            unet.train()\n",
    "            val_losses.append(val_loss)\n",
    "             "
   ]
  },
  {
   "cell_type": "code",
   "execution_count": null,
   "metadata": {},
   "outputs": [],
   "source": [
    "torch.save({\n",
    "    'epoch': epoch+1,\n",
    "    'model': unet.state_dict(),\n",
    "    'optimizer': optimizer.state_dict(),\n",
    "    'losses': {\n",
    "        'train': train_losses,\n",
    "        'eval': val_losses\n",
    "        }\n",
    "    }, 'unet_checkpoint.pth')"
   ]
  },
  {
   "cell_type": "code",
   "execution_count": null,
   "metadata": {},
   "outputs": [],
   "source": [
    "    "
   ]
  },
  {
   "cell_type": "code",
   "execution_count": null,
   "metadata": {},
   "outputs": [],
   "source": [
    "plt.plot(train_losses)\n",
    "plt.plot(val_losses)\n",
    "plt.show()"
   ]
  },
  {
   "cell_type": "code",
   "execution_count": null,
   "metadata": {},
   "outputs": [],
   "source": [
    "import cv2\n",
    "event = cv2.imread(\"data/renders/train/001-bottle_square_2020-09-10T09:14:24/events/0_event.png\")\n",
    "print(event.shape)\n",
    "c = cv2.cvtColor(event, cv2.COLOR_BGR2GRAY)\n",
    "if len(c.shape) == 2:\n",
    "    c = np.expand_dims(c, axis=2)\n",
    "c.shape\n",
    "\n",
    "img = Image.open(\"data/renders/train/001-bottle_square_2020-09-10T09:14:24/events/0_event.png\").convert('L')\n",
    "img.size"
   ]
  },
  {
   "cell_type": "code",
   "execution_count": null,
   "metadata": {},
   "outputs": [],
   "source": []
  }
 ],
 "metadata": {
  "kernelspec": {
   "display_name": "pytorch3d",
   "language": "python",
   "name": "pytorch3d"
  },
  "language_info": {
   "codemirror_mode": {
    "name": "ipython",
    "version": 3
   },
   "file_extension": ".py",
   "mimetype": "text/x-python",
   "name": "python",
   "nbconvert_exporter": "python",
   "pygments_lexer": "ipython3",
   "version": "3.7.7"
  }
 },
 "nbformat": 4,
 "nbformat_minor": 4
}
