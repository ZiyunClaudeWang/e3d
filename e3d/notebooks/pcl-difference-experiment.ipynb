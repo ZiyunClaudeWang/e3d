{
 "cells": [
  {
   "cell_type": "code",
   "execution_count": null,
   "metadata": {},
   "outputs": [],
   "source": [
    "import sys\n",
    "import os\n",
    "\n",
    "import torch\n",
    "import torch.nn.functional as F\n",
    "import matplotlib.pyplot as plt\n",
    "from skimage.io import imread\n",
    "\n",
    "# Util function for loading point clouds\n",
    "import numpy as np\n",
    "\n",
    "# Data structures and functions for rendering\n",
    "from pytorch3d.structures import Pointclouds\n",
    "from pytorch3d.renderer import (\n",
    "    look_at_view_transform,\n",
    "    OpenGLOrthographicCameras, \n",
    "    PointsRasterizationSettings,\n",
    "    PointsRenderer,\n",
    "    PointsRasterizer,\n",
    "    AlphaCompositor,\n",
    "    NormWeightedCompositor,\n",
    "    WeightedCompositor\n",
    ")"
   ]
  },
  {
   "cell_type": "code",
   "execution_count": null,
   "metadata": {},
   "outputs": [],
   "source": [
    "!wget -P ./data/meshes/PittsburghBridge https://dl.fbaipublicfiles.com/pytorch3d/data/PittsburghBridge/pointcloud.npz"
   ]
  },
  {
   "cell_type": "code",
   "execution_count": null,
   "metadata": {},
   "outputs": [],
   "source": [
    "# Setup\n",
    "device = torch.device(\"cuda:0\") if torch.cuda.is_available() else torch.device(\"cpu\")\n",
    "\n",
    "# Set paths\n",
    "DATA_DIR = \"./data/meshes\"\n",
    "obj_filename = os.path.join(DATA_DIR, \"PittsburghBridge/pointcloud.npz\")\n",
    "\n",
    "# Load point cloud\n",
    "pointcloud = np.load(obj_filename)\n",
    "verts = torch.Tensor(pointcloud['verts']).to(device)\n",
    "        \n",
    "rgb = torch.Tensor(pointcloud['rgb']).to(device)\n",
    "\n",
    "point_cloud = Pointclouds(points=[verts], features=[rgb])"
   ]
  },
  {
   "cell_type": "markdown",
   "metadata": {},
   "source": [
    "## Diff Experiment"
   ]
  },
  {
   "cell_type": "code",
   "execution_count": null,
   "metadata": {},
   "outputs": [],
   "source": [
    "compositors = [\"Normalized Weighted Sum\"]\n",
    "compositor_map = {\n",
    "    \"Alpha\": AlphaCompositor(composite_params=None),\n",
    "    \"Normalized Weighted Sum\": NormWeightedCompositor(composite_params=None),\n",
    "    \"Weighted Sum\": WeightedCompositor(composite_params=None)\n",
    "}\n",
    "\n",
    "batch_size = 2\n",
    "\n",
    "point_clouds = point_cloud.extend(batch_size)\n",
    "\n",
    "elev = torch.linspace(5, 25, batch_size)\n",
    "azim = torch.linspace(0, 30, batch_size)\n",
    "\n",
    "for name, compositor in compositor_map.items():\n",
    "    if name not in compositors:\n",
    "        continue\n",
    "    # Initialize an OpenGL perspective camera.\n",
    "    R, T = look_at_view_transform(dist = 20, elev=elev, azim=azim)\n",
    "    cameras = OpenGLOrthographicCameras(device=device, R=R, T=T, znear=0.01)\n",
    "\n",
    "    # Define the settings for rasterization and shading. Here we set the output image to be of size\n",
    "    # 512x512. As we are rendering images for visualization purposes only we will set faces_per_pixel=1\n",
    "    # and blur_radius=0.0. Refer to raster_points.py for explanations of these parameters. \n",
    "    raster_settings = PointsRasterizationSettings(\n",
    "        image_size=512, \n",
    "        radius = 0.003,\n",
    "        points_per_pixel = 10\n",
    "    )\n",
    "\n",
    "    # Create a points renderer by compositing points using an alpha compositor (nearer points\n",
    "    # are weighted more heavily). See [1] for an explanation.\n",
    "    renderer = PointsRenderer(\n",
    "        rasterizer=PointsRasterizer(cameras=cameras, raster_settings=raster_settings),\n",
    "        compositor=AlphaCompositor(composite_params=None)\n",
    "    )\n",
    "    images = []\n",
    "    for pc in point_clouds:\n",
    "        images.append(renderer(pc))\n",
    "        plt.figure(figsize=(10, 10))\n",
    "        plt.imshow(images[0, ..., :3].cpu().numpy())\n",
    "        plt.grid(\"off\")\n",
    "        plt.axis(\"off\")"
   ]
  },
  {
   "cell_type": "code",
   "execution_count": null,
   "metadata": {},
   "outputs": [],
   "source": [
    "image_diff = np.substract(images[1] - images[0])\n",
    "plt.figure(figsize=(10, 10))\n",
    "plt.imshow(image_diff[0, ..., :3].cpu().numpy())\n",
    "plt.grid(\"off\")\n",
    "plt.axis(\"off\")"
   ]
  },
  {
   "cell_type": "markdown",
   "metadata": {},
   "source": [
    "## Weighted Compositing\n",
    "brought this out the C api \n",
    "problem with the RGB values it's giving out"
   ]
  },
  {
   "cell_type": "code",
   "execution_count": null,
   "metadata": {},
   "outputs": [],
   "source": [
    "R, T = look_at_view_transform(20, 10, 0)\n",
    "cameras = OpenGLOrthographicCameras(device=device, R=R, T=T, znear=0.01)\n",
    "\n",
    "# Define the settings for rasterization and shading. Here we set the output image to be of size\n",
    "# 512x512. As we are rendering images for visualization purposes only we will set faces_per_pixel=1\n",
    "# and blur_radius=0.0. Refer to rasterize_points.py for explanations of these parameters. \n",
    "raster_settings = PointsRasterizationSettings(\n",
    "    image_size=512, \n",
    "    radius = 0.003,\n",
    "    points_per_pixel = 10\n",
    ")\n",
    "\n",
    "\n",
    "# Create a points renderer by compositing points using an weighted compositor (3D points are\n",
    "# weighted according to their distance to a pixel and accumulated using a weighted sum)\n",
    "renderer = PointsRenderer(\n",
    "    rasterizer=PointsRasterizer(cameras=cameras, raster_settings=raster_settings),\n",
    "    compositor=WeightedCompositor(composite_params=None)\n",
    ")"
   ]
  },
  {
   "cell_type": "code",
   "execution_count": null,
   "metadata": {},
   "outputs": [],
   "source": [
    "images = renderer(point_cloud)\n",
    "plt.figure(figsize=(10, 10))\n",
    "plt.imshow(images[0, ..., :3].cpu().numpy())\n",
    "plt.grid(\"off\")\n",
    "plt.axis(\"off\")"
   ]
  }
 ],
 "metadata": {
  "kernelspec": {
   "display_name": "Pytorch3D",
   "language": "python",
   "name": "pytorch3d"
  },
  "language_info": {
   "codemirror_mode": {
    "name": "ipython",
    "version": 3
   },
   "file_extension": ".py",
   "mimetype": "text/x-python",
   "name": "python",
   "nbconvert_exporter": "python",
   "pygments_lexer": "ipython3",
   "version": "3.7.7"
  }
 },
 "nbformat": 4,
 "nbformat_minor": 4
}
