{
 "cells": [
  {
   "cell_type": "code",
   "execution_count": 1,
   "metadata": {},
   "outputs": [
    {
     "name": "stdout",
     "output_type": "stream",
     "text": [
      "['/home/alexis/Desktop/E3D', '/home/alexis/Desktop/E3D', '/home/alexis/anaconda3/envs/pytorch3d/lib/python37.zip', '/home/alexis/anaconda3/envs/pytorch3d/lib/python3.7', '/home/alexis/anaconda3/envs/pytorch3d/lib/python3.7/lib-dynload', '', '/home/alexis/anaconda3/envs/pytorch3d/lib/python3.7/site-packages', '/home/alexis/Desktop/pytorch3d', '/home/alexis/anaconda3/envs/pytorch3d/lib/python3.7/site-packages/IPython/extensions', '/home/alexis/.ipython']\n"
     ]
    }
   ],
   "source": [
    "#Imports and dependencies\n",
    "import os\n",
    "from os.path import join\n",
    "import torch\n",
    "import torch.nn as nn\n",
    "import math\n",
    "import pandas as pd\n",
    "import imageio\n",
    "from skimage import img_as_ubyte\n",
    "from scipy.ndimage.morphology import binary_dilation\n",
    "from itertools import product\n",
    "from typing import List\n",
    "from tqdm import tqdm_notebook\n",
    "from pytorch3d.io import load_obj, save_obj\n",
    "from pytorch3d.structures import Meshes, Textures\n",
    "from pytorch3d.transforms import Rotate, Translate\n",
    "from pytorch3d.utils import ico_sphere\n",
    "from pytorch3d.ops import sample_points_from_meshes\n",
    "from pytorch3d.renderer import (\n",
    "    SfMPerspectiveCameras, OpenGLPerspectiveCameras, look_at_view_transform, look_at_rotation,\n",
    "    RasterizationSettings, MeshRenderer, MeshRasterizer, BlendParams,\n",
    "    SoftSilhouetteShader, HardPhongShader, PointLights\n",
    ")\n",
    "from pytorch3d.loss import (\n",
    "    mesh_laplacian_smoothing, \n",
    "    mesh_normal_consistency\n",
    ")\n",
    "from dataclasses import dataclass, field, asdict, astuple\n",
    "import numpy as np\n",
    "#Plotting Libs\n",
    "from mpl_toolkits.mplot3d import Axes3D\n",
    "import matplotlib.pyplot as plt\n",
    "import matplotlib as mpl\n",
    "from datetime import datetime\n",
    "import time\n",
    "from copy import deepcopy\n",
    "\n",
    "from plotly.subplots import make_subplots\n",
    "import plotly.graph_objects as go\n",
    "import plotly.express as px\n",
    "\n",
    "from utils.visualization import plot_pointcloud\n",
    "from utils.shapes import Sphere, SphericalSpiral\n",
    "from utils.manager import RenderManager, ImageManager"
   ]
  },
  {
   "cell_type": "code",
   "execution_count": 2,
   "metadata": {},
   "outputs": [],
   "source": [
    "#Matplotlib config nums\n",
    "mpl.rcParams['savefig.dpi'] = 80\n",
    "mpl.rcParams['figure.dpi'] = 80\n",
    "#Set the device\n",
    "device = torch.device(\"cuda:0\" if torch.cuda.is_available() else \"cpu\")\n",
    "if device == \"cuda:0\": torch.cuda.set_device()"
   ]
  },
  {
   "cell_type": "markdown",
   "metadata": {},
   "source": [
    "### Load Object"
   ]
  },
  {
   "cell_type": "code",
   "execution_count": 3,
   "metadata": {},
   "outputs": [
    {
     "name": "stderr",
     "output_type": "stream",
     "text": [
      "/home/alexis/Desktop/pytorch3d/pytorch3d/io/obj_io.py:70: UserWarning:\n",
      "\n",
      "Faces have invalid indices\n",
      "\n"
     ]
    }
   ],
   "source": [
    "#Load the object without textures and materials\n",
    "verts, faces_idx, _ = load_obj(\"data/meshes/dolphin.obj\")\n",
    "faces = faces_idx.verts_idx\n",
    "\n",
    "# Initialize each vertex to be white in color.\n",
    "verts_rgb = torch.ones_like(verts)[None]  # (1, V, 3)\n",
    "textures = Textures(verts_rgb=verts_rgb.to(device))\n",
    "\n",
    "# Create a Meshes object for the teapot. Here we have only one mesh in the batch.\n",
    "teapot_mesh = Meshes(\n",
    "    verts=[verts.to(device)],   \n",
    "    faces=[faces.to(device)], \n",
    "    textures=textures\n",
    ")"
   ]
  },
  {
   "cell_type": "markdown",
   "metadata": {},
   "source": [
    "### Create a Renderer"
   ]
  },
  {
   "cell_type": "code",
   "execution_count": 4,
   "metadata": {},
   "outputs": [],
   "source": [
    "cameras = SfMPerspectiveCameras(device=device)\n",
    "\n",
    "\n",
    "# To blend the 100 faces we set a few parameters which control the opacity and the sharpness of \n",
    "# edges. Refer to blending.py for more details. \n",
    "blend_params = BlendParams(sigma=1e-4, gamma=1e-4)\n",
    "\n",
    "# Define the settings for rasterization and shading. Here we set the output image to be of size\n",
    "# 256x256. To form the blended image we use 100 faces for each pixel. We also set bin_size and max_faces_per_bin to None which ensure that \n",
    "# the faster coarse-to-fine rasterization method is used. Refer to rasterize_meshes.py for \n",
    "# explanations of these parameters. Refer to docs/notes/renderer.md for an explanation of \n",
    "# the difference between naive and coarse-to-fine rasterization. \n",
    "raster_settings = RasterizationSettings(\n",
    "    image_size=128, \n",
    "    blur_radius=np.log(1. / 1e-4 - 1.) * blend_params.sigma, \n",
    "    faces_per_pixel=100, \n",
    ")\n",
    "\n",
    "# Create a silhouette mesh renderer by composing a rasterizer and a shader. \n",
    "silhouette_renderer = MeshRenderer(\n",
    "    rasterizer=MeshRasterizer(\n",
    "        cameras=cameras, \n",
    "        raster_settings=raster_settings\n",
    "    ),\n",
    "    shader=SoftSilhouetteShader(blend_params=blend_params)\n",
    ")\n",
    "\n",
    "\n",
    "# We will also create a phong renderer. This is simpler and only needs to render one face per pixel.\n",
    "raster_settings = RasterizationSettings(\n",
    "    image_size=128, \n",
    "    blur_radius=0.0, \n",
    "    faces_per_pixel=1, \n",
    ")\n",
    "# We can add a point light in front of the object. \n",
    "lights = PointLights(device=device, location=((2.0, 2.0, -2.0),))\n",
    "phong_renderer = MeshRenderer(\n",
    "    rasterizer=MeshRasterizer(\n",
    "        cameras=cameras, \n",
    "        raster_settings=raster_settings\n",
    "    ),\n",
    "    shader=HardPhongShader(device=device, lights=lights, cameras=cameras)\n",
    ")"
   ]
  },
  {
   "cell_type": "markdown",
   "metadata": {},
   "source": [
    "### Event Renderer"
   ]
  },
  {
   "cell_type": "code",
   "execution_count": 23,
   "metadata": {},
   "outputs": [],
   "source": [
    "ON = 254\n",
    "OFF = 0\n",
    "threshold = 250\n",
    "\n",
    "def event_renderer(img1, img2):\n",
    "\n",
    "    diff_frames = img2 - img1\n",
    "    \n",
    "    plt.imshow(diff_frames)\n",
    "\n",
    "    threshold_diff = (diff_frames < threshold) * diff_frames\n",
    "\n",
    "    tanh_diff = np.tanh(threshold_diff).astype(np.uint8)\n",
    "    tanh_diff = np.where(tanh_diff != 0, ON, OFF)\n",
    "    \n",
    "    return tanh_diff"
   ]
  },
  {
   "cell_type": "markdown",
   "metadata": {},
   "source": [
    "### Create a trajectory and Render"
   ]
  },
  {
   "cell_type": "code",
   "execution_count": 24,
   "metadata": {},
   "outputs": [
    {
     "name": "stdout",
     "output_type": "stream",
     "text": [
      "shaded\n",
      "silhouette\n",
      "events\n"
     ]
    },
    {
     "name": "stderr",
     "output_type": "stream",
     "text": [
      "WARNING:imageio:Lossy conversion from float32 to uint8. Range [0, 1]. Convert image to uint8 prior to saving to suppress this warning.\n",
      "WARNING:imageio:Lossy conversion from float32 to uint8. Range [0, 1]. Convert image to uint8 prior to saving to suppress this warning.\n"
     ]
    },
    {
     "data": {
      "image/png": "[encoded data removed]",
      "text/plain": [
       "<Figure size 480x320 with 2 Axes>"
      ]
     },
     "metadata": {
      "needs_background": "light"
     },
     "output_type": "display_data"
    },
    {
     "name": "stderr",
     "output_type": "stream",
     "text": [
      "WARNING:imageio:Lossy conversion from float32 to uint8. Range [0, 1]. Convert image to uint8 prior to saving to suppress this warning.\n",
      "WARNING:imageio:Lossy conversion from float32 to uint8. Range [0, 1]. Convert image to uint8 prior to saving to suppress this warning.\n",
      "WARNING:matplotlib.image:Clipping input data to the valid range for imshow with RGB data ([0..1] for floats or [0..255] for integers).\n"
     ]
    },
    {
     "data": {
      "image/png": "[encoded data removed]",
      "text/plain": [
       "<Figure size 480x320 with 3 Axes>"
      ]
     },
     "metadata": {
      "needs_background": "light"
     },
     "output_type": "display_data"
    },
    {
     "name": "stderr",
     "output_type": "stream",
     "text": [
      "WARNING:imageio:Lossy conversion from float32 to uint8. Range [0, 1]. Convert image to uint8 prior to saving to suppress this warning.\n",
      "WARNING:imageio:Lossy conversion from float32 to uint8. Range [0, 1]. Convert image to uint8 prior to saving to suppress this warning.\n",
      "WARNING:matplotlib.image:Clipping input data to the valid range for imshow with RGB data ([0..1] for floats or [0..255] for integers).\n"
     ]
    },
    {
     "data": {
      "image/png": "[encoded data removed]",
      "text/plain": [
       "<Figure size 480x320 with 3 Axes>"
      ]
     },
     "metadata": {
      "needs_background": "light"
     },
     "output_type": "display_data"
    },
    {
     "name": "stdout",
     "output_type": "stream",
     "text": [
      "RenderManager(mesh_name='teapot', images={'shaded': [{'posn': 0, 'image_path': 'data/renders/teapot_2020-07-17T16:50:14/shaded/0_shaded.png', 'render_type': 'shaded', 'R': [[[0.11039319634437561, -0.7006273865699768, -0.7049359083175659], [-0.0, 0.7092710137367249, -0.7049359083175659], [0.9938879609107971, 0.07782013714313507, 0.07829869538545609]]], 'T': [[-0.0, 1.816079020500183e-08, 0.7864326238632202]], 'extension': 'png'}, {'posn': 1, 'image_path': 'data/renders/teapot_2020-07-17T16:50:14/shaded/1_shaded.png', 'render_type': 'shaded', 'R': [[[0.13186486065387726, -0.7509685754776001, -0.6470378041267395], [-0.0, 0.6527377367019653, -0.7575839161872864], [0.9912676811218262, 0.09989871084690094, 0.08607317507266998]]], 'T': [[-0.0, 4.0978193283081055e-08, 0.757363498210907]], 'extension': 'png'}, {'posn': 2, 'image_path': 'data/renders/teapot_2020-07-17T16:50:14/shaded/2_shaded.png', 'render_type': 'shaded', 'R': [[[0.1583215743303299, -0.7952890396118164, -0.5851919651031494], [-0.0, 0.5926669836044312, -0.8054476380348206], [0.9873875975608826, 0.12751975655555725, 0.09383196383714676]]], 'T': [[-0.0, -2.2351741790771484e-08, 0.7290242314338684]], 'extension': 'png'}], 'silhouette': [{'posn': 0, 'image_path': 'data/renders/teapot_2020-07-17T16:50:14/silhouette/0_silhouette.png', 'render_type': 'silhouette', 'R': [[[0.11039319634437561, -0.7006273865699768, -0.7049359083175659], [-0.0, 0.7092710137367249, -0.7049359083175659], [0.9938879609107971, 0.07782013714313507, 0.07829869538545609]]], 'T': [[-0.0, 1.816079020500183e-08, 0.7864326238632202]], 'extension': 'png'}, {'posn': 1, 'image_path': 'data/renders/teapot_2020-07-17T16:50:14/silhouette/1_silhouette.png', 'render_type': 'silhouette', 'R': [[[0.13186486065387726, -0.7509685754776001, -0.6470378041267395], [-0.0, 0.6527377367019653, -0.7575839161872864], [0.9912676811218262, 0.09989871084690094, 0.08607317507266998]]], 'T': [[-0.0, 4.0978193283081055e-08, 0.757363498210907]], 'extension': 'png'}, {'posn': 2, 'image_path': 'data/renders/teapot_2020-07-17T16:50:14/silhouette/2_silhouette.png', 'render_type': 'silhouette', 'R': [[[0.1583215743303299, -0.7952890396118164, -0.5851919651031494], [-0.0, 0.5926669836044312, -0.8054476380348206], [0.9873875975608826, 0.12751975655555725, 0.09383196383714676]]], 'T': [[-0.0, -2.2351741790771484e-08, 0.7290242314338684]], 'extension': 'png'}], 'events': [{'posn': 1, 'file_name': 'data/renders/teapot_2020-07-17T16:50:14/events/1_event.npy', 'extension': 'npy'}, {'posn': 2, 'file_name': 'data/renders/teapot_2020-07-17T16:50:14/events/2_event.npy', 'extension': 'npy'}]}, event_frames={}, R=[[[[0.11039319634437561, -0.7006273865699768, -0.7049359083175659], [-0.0, 0.7092710137367249, -0.7049359083175659], [0.9938879609107971, 0.07782013714313507, 0.07829869538545609]]], [[[0.13186486065387726, -0.7509685754776001, -0.6470378041267395], [-0.0, 0.6527377367019653, -0.7575839161872864], [0.9912676811218262, 0.09989871084690094, 0.08607317507266998]]], [[[0.1583215743303299, -0.7952890396118164, -0.5851919651031494], [-0.0, 0.5926669836044312, -0.8054476380348206], [0.9873875975608826, 0.12751975655555725, 0.09383196383714676]]]], T=[[[-0.0, 1.816079020500183e-08, 0.7864326238632202]], [[-0.0, 4.0978193283081055e-08, 0.757363498210907]], [[-0.0, -2.2351741790771484e-08, 0.7290242314338684]]], types=['shaded', 'silhouette', 'events'], metadata={}, count=3, folder_locs={'base': 'data/renders/teapot_2020-07-17T16:50:14', 'shaded': 'data/renders/teapot_2020-07-17T16:50:14/shaded', 'silhouette': 'data/renders/teapot_2020-07-17T16:50:14/silhouette', 'events': 'data/renders/teapot_2020-07-17T16:50:14/events'}, formatted_utc_ts='2020-07-17T16:50:14', gif_writers={'shaded': 'data/renders/teapot_2020-07-17T16:50:14/shaded/camera_simulation_shaded.gif', 'silhouette': 'data/renders/teapot_2020-07-17T16:50:14/silhouette/camera_simulation_silhouette.gif', 'events': 'data/renders/teapot_2020-07-17T16:50:14/events/camera_simulation_events.gif'})\n"
     ]
    }
   ],
   "source": [
    "#Notes: benefit of having varying radiis for trajectory\n",
    "#TODO: Move all the camera stuff to a dataclass\n",
    "\n",
    "#Just to put these somewhere - this should be stored in param file after\n",
    "\n",
    "def cam_trajectory_rotation(num_points: int = 3):\n",
    "    \"\"\"\n",
    "    Returns: list of camera poses (R,T) from trajectory along a spherical spiral\n",
    "    \"\"\"\n",
    "    \n",
    "    #sphere = Sphere(\n",
    "    #    radius=2,\n",
    "    #    num_points_theta = 1,\n",
    "    #    num_points_phi = 30,\n",
    "    #    theta_min = math.pi/2,\n",
    "    #    theta_max = math.pi/2, \n",
    "    #    phi_max = math.pi)\n",
    "    shape = SphericalSpiral(\n",
    "        c = 1,\n",
    "        a = .1,\n",
    "        t_min = .25*math.pi,\n",
    "        t_max=.3*math.pi,\n",
    "        num_points=num_points)\n",
    "    #up = torch.tensor([[1., 0., 0.]])\n",
    "    R = []\n",
    "    T = []\n",
    "    for cp in shape._tuples:\n",
    "        cp = torch.tensor(cp).to(device)\n",
    "        R_new = look_at_rotation(cp[None, :], device=device)\n",
    "        T_new = -torch.bmm(R_new.transpose(1,2), cp[None, :, None])[:, :, 0]\n",
    "        if not len(R) and not len(T):\n",
    "            R = [R_new]\n",
    "            T = [T_new]\n",
    "        else:\n",
    "            R.append(R_new)\n",
    "            T.append(T_new)\n",
    "    return (R, T)\n",
    "\n",
    "def cam_trajectory_transform(\n",
    "    dist: float = 2.7,\n",
    "    elev_range: list= [10, 50],\n",
    "    azim_range: list= [-180, 180]):\n",
    "    \"\"\"\n",
    "    Input\n",
    "    Returns cameras from ranges of elevations and azimuths\n",
    "    \n",
    "    Not going to use this for now\n",
    "    \"\"\"\n",
    "    \n",
    "    elev = torch.linspace(elev_range[0], elev_range[1], batch_size)\n",
    "    azim = torch.linspace(elev_range[0], elev_range[1], batch_size)\n",
    "    R = []\n",
    "    T = []\n",
    "    for e, a in elev, azim:\n",
    "        R_new, T_new = look_at_view_transform(dist=dist, elev=e, azim=a)\n",
    "        R = torch.stack((R, R_new)) if R else R_new\n",
    "        T = torch.stack((T, T_new)) if T else T_new\n",
    "    return (R, T)\n",
    "    \n",
    "def render_trajectory(cam_poses, write_gif=True):\n",
    "    \n",
    "    renders = {\n",
    "        \"shaded\": None,\n",
    "        \"silhouette\": None,\n",
    "        \"events\": None\n",
    "    }\n",
    "    render_manager = RenderManager(\n",
    "        types=list(renders.keys()),\n",
    "        mesh_name = \"teapot\"\n",
    "    )\n",
    "    # Render the teapot providing the values of R and T.\n",
    "    R, T = cam_poses\n",
    "    for num in range(len(R)):\n",
    "        if \"shaded\" in renders.keys():\n",
    "            image_ref = phong_renderer(meshes_world=teapot_mesh, R=R[num], T=T[num])\n",
    "            image_ref = image_ref.cpu().numpy()\n",
    "            plt.subplot(131)\n",
    "            plt.imshow(image_ref.squeeze())\n",
    "        if \"silhouette\" in renders.keys():\n",
    "            silhouette = silhouette_renderer(meshes_world=teapot_mesh, R=R[num], T=T[num])\n",
    "            silhouette = silhouette.cpu().numpy()\n",
    "            plt.subplot(132)\n",
    "            plt.imshow(silhouette.squeeze()[...,3])  # only plot the alpha channel of the RGBA image \n",
    "        render_manager.add_images(\n",
    "            num,\n",
    "            {\"silhouette\": silhouette.squeeze(), \"shaded\": image_ref.squeeze()},\n",
    "            R[num], T[num])\n",
    "        if \"events\" in renders.keys():\n",
    "            if num == 0:\n",
    "                prev_img = silhouette\n",
    "                plt.show()\n",
    "                continue\n",
    "            event_frame = event_renderer(prev_img.squeeze(), silhouette.squeeze())\n",
    "            plt.subplot(133)\n",
    "            plt.imshow(event_frame)\n",
    "            render_manager.add_event_frame(num, event_frame)\n",
    "            prev_img = silhouette\n",
    "        plt.show()\n",
    "    render_manager.close()\n",
    "    return render_manager\n",
    "    \n",
    "cam_poses = cam_trajectory_rotation()\n",
    "render = render_trajectory(cam_poses)"
   ]
  },
  {
   "cell_type": "markdown",
   "metadata": {},
   "source": [
    "### Diff Model"
   ]
  },
  {
   "cell_type": "code",
   "execution_count": 25,
   "metadata": {},
   "outputs": [],
   "source": [
    "def neg_iou_loss(predict, target):\n",
    "    dims = tuple(range(predict.ndimension())[1:])\n",
    "    intersect = (predict * target).sum(dims)\n",
    "    union = (predict + target - predict * target).sum(dims) + 1e-6\n",
    "    return 1. - (intersect / union).sum() / intersect.nelement()"
   ]
  },
  {
   "cell_type": "code",
   "execution_count": 26,
   "metadata": {},
   "outputs": [],
   "source": [
    "class ImageBasedDifferentiableModel(nn.Module):\n",
    "    \n",
    "    def __init__(self, device, template_mesh = None):\n",
    "        super().__init__()\n",
    "        \n",
    "        self.device = device\n",
    "        \n",
    "        #Create a source mesh\n",
    "        if not template_mesh:\n",
    "            template_mesh = ico_sphere(2, device)\n",
    "        \n",
    "        verts, faces = template_mesh.get_mesh_verts_faces(0)\n",
    "        #Initialize each vert to have no tetxture\n",
    "        verts_rgb = torch.ones_like(verts)[None]\n",
    "        textures = Textures(verts_rgb=verts_rgb.to(self.device))\n",
    "        self.template_mesh = Meshes(\n",
    "            verts=[verts.to(self.device)],\n",
    "            faces=[faces.to(self.device)],\n",
    "            textures = textures\n",
    "        )\n",
    "        \n",
    "        self.register_buffer('vertices', self.template_mesh.verts_padded())\n",
    "        self.register_buffer('faces', self.template_mesh.faces_padded())\n",
    "        self.register_buffer('textures', textures.verts_rgb_padded())\n",
    "        \n",
    "        deform_verts = torch.zeros_like(self.template_mesh.verts_packed(), device=device, requires_grad=True)\n",
    "        #deform_verts = torch.full(self.template_mesh.verts_packed().shape, 0.0, device=device, requires_grad=True)\n",
    "        #Create an optimizable parameter for the mesh\n",
    "        self.register_parameter('deform_verts', nn.Parameter(deform_verts).to(self.device))\n",
    "        \n",
    "        laplacian_loss = mesh_laplacian_smoothing(template_mesh, method=\"uniform\")\n",
    "        flatten_loss = mesh_normal_consistency(template_mesh)\n",
    "        \n",
    "    def forward(self, batch_size):\n",
    "        #Offset the mesh\n",
    "        deformed_mesh_verts = self.template_mesh.offset_verts(self.deform_verts)\n",
    "        texture = Textures(verts_rgb = self.textures)\n",
    "        deformed_mesh = Meshes(verts=deformed_mesh_verts.verts_padded(), faces=deformed_mesh_verts.faces_padded(), textures=texture)\n",
    "        deformed_meshes = deformed_mesh.extend(batch_size)\n",
    "    \n",
    "        laplacian_loss = mesh_laplacian_smoothing(deformed_mesh, method=\"uniform\")\n",
    "        flatten_loss = mesh_normal_consistency(deformed_mesh)\n",
    "        \n",
    "        return deformed_meshes, laplacian_loss, flatten_loss\n",
    "    "
   ]
  },
  {
   "cell_type": "markdown",
   "metadata": {},
   "source": [
    "### Initialize the model"
   ]
  },
  {
   "cell_type": "code",
   "execution_count": 27,
   "metadata": {},
   "outputs": [],
   "source": [
    "weight_silhouette = 10\n",
    "weight_laplacian = .01\n",
    "weight_flatten = .0001\n",
    "\n",
    "# We will save images periodically and compose them into a GIF.\n",
    "filename_output = \"./projection_loss.gif\"\n",
    "writer = imageio.get_writer(filename_output, mode='I', duration=0.3)\n",
    "\n",
    "#Create a loss plotting object\n",
    "#loss_ax = plot_loss(num_losses = 3)\n",
    "\n",
    "# Initialize a model using the renderer, template mesh and reference image\n",
    "model = ImageBasedDifferentiableModel(device).to(device)\n",
    "\n",
    "# Create an optimizer. Here we are using Adam and we pass in the parameters of the model\n",
    "optimizer = torch.optim.Adam(model.parameters(), lr=.15) #Hyperparameter tuning\n",
    "\n",
    "R, T = render._trajectory\n",
    "images_gt = torch.round(render._images().to(device) / 255)\n",
    "cameras = SfMPerspectiveCameras(device=device, R=R, T=T*1.2)\n"
   ]
  },
  {
   "cell_type": "markdown",
   "metadata": {},
   "source": [
    "### Run the optimization"
   ]
  },
  {
   "cell_type": "code",
   "execution_count": 29,
   "metadata": {},
   "outputs": [
    {
     "name": "stderr",
     "output_type": "stream",
     "text": [
      "/home/alexis/anaconda3/envs/pytorch3d/lib/python3.7/site-packages/ipykernel_launcher.py:1: TqdmDeprecationWarning:\n",
      "\n",
      "This function will be removed in tqdm==5.0.0\n",
      "Please use `tqdm.notebook.tqdm` instead of `tqdm.tqdm_notebook`\n",
      "\n"
     ]
    },
    {
     "data": {
      "application/vnd.jupyter.widget-view+json": {
       "model_id": "9b2944abc7744a0eaee30773115e6222",
       "version_major": 2,
       "version_minor": 0
      },
      "text/plain": [
       "HBox(children=(FloatProgress(value=0.0, max=2000.0), HTML(value='')))"
      ]
     },
     "metadata": {},
     "output_type": "display_data"
    },
    {
     "name": "stdout",
     "output_type": "stream",
     "text": [
      "\n"
     ]
    },
    {
     "ename": "AttributeError",
     "evalue": "'Tensor' object has no attribute 'astype'",
     "output_type": "error",
     "traceback": [
      "\u001b[0;31m---------------------------------------------------------------------------\u001b[0m",
      "\u001b[0;31mAttributeError\u001b[0m                            Traceback (most recent call last)",
      "\u001b[0;32m<ipython-input-29-bf0fdc89567a>\u001b[0m in \u001b[0;36m<module>\u001b[0;34m\u001b[0m\n\u001b[1;32m     12\u001b[0m     \u001b[0mprev_img\u001b[0m \u001b[0;34m=\u001b[0m \u001b[0mimages_pred\u001b[0m\u001b[0;34m[\u001b[0m\u001b[0;36m0\u001b[0m\u001b[0;34m]\u001b[0m\u001b[0;34m\u001b[0m\u001b[0;34m\u001b[0m\u001b[0m\n\u001b[1;32m     13\u001b[0m     \u001b[0;32mfor\u001b[0m \u001b[0mimg\u001b[0m \u001b[0;32min\u001b[0m \u001b[0mimages_pred\u001b[0m\u001b[0;34m[\u001b[0m\u001b[0;36m1\u001b[0m\u001b[0;34m:\u001b[0m\u001b[0;34m-\u001b[0m\u001b[0;36m1\u001b[0m\u001b[0;34m]\u001b[0m\u001b[0;34m:\u001b[0m\u001b[0;34m\u001b[0m\u001b[0;34m\u001b[0m\u001b[0m\n\u001b[0;32m---> 14\u001b[0;31m         \u001b[0mevents_pred\u001b[0m\u001b[0;34m.\u001b[0m\u001b[0mappend\u001b[0m\u001b[0;34m(\u001b[0m\u001b[0mevent_renderer\u001b[0m\u001b[0;34m(\u001b[0m\u001b[0mprev_img\u001b[0m\u001b[0;34m.\u001b[0m\u001b[0mdetach\u001b[0m\u001b[0;34m(\u001b[0m\u001b[0;34m)\u001b[0m\u001b[0;34m.\u001b[0m\u001b[0msqueeze\u001b[0m\u001b[0;34m(\u001b[0m\u001b[0;34m)\u001b[0m\u001b[0;34m,\u001b[0m \u001b[0mimg\u001b[0m\u001b[0;34m.\u001b[0m\u001b[0mdetach\u001b[0m\u001b[0;34m(\u001b[0m\u001b[0;34m)\u001b[0m\u001b[0;34m.\u001b[0m\u001b[0msqueeze\u001b[0m\u001b[0;34m(\u001b[0m\u001b[0;34m)\u001b[0m\u001b[0;34m)\u001b[0m\u001b[0;34m)\u001b[0m\u001b[0;34m\u001b[0m\u001b[0;34m\u001b[0m\u001b[0m\n\u001b[0m\u001b[1;32m     15\u001b[0m \u001b[0;34m\u001b[0m\u001b[0m\n\u001b[1;32m     16\u001b[0m     \u001b[0msilhouette_loss\u001b[0m \u001b[0;34m=\u001b[0m \u001b[0mneg_iou_loss\u001b[0m\u001b[0;34m(\u001b[0m\u001b[0mimages_gt\u001b[0m\u001b[0;34m,\u001b[0m \u001b[0mimages_pred\u001b[0m\u001b[0;34m[\u001b[0m\u001b[0;34m...\u001b[0m\u001b[0;34m,\u001b[0m \u001b[0;34m-\u001b[0m\u001b[0;36m1\u001b[0m\u001b[0;34m]\u001b[0m\u001b[0;34m)\u001b[0m\u001b[0;34m\u001b[0m\u001b[0;34m\u001b[0m\u001b[0m\n",
      "\u001b[0;32m<ipython-input-23-7dd7de74e233>\u001b[0m in \u001b[0;36mevent_renderer\u001b[0;34m(img1, img2)\u001b[0m\n\u001b[1;32m     11\u001b[0m     \u001b[0mthreshold_diff\u001b[0m \u001b[0;34m=\u001b[0m \u001b[0;34m(\u001b[0m\u001b[0mdiff_frames\u001b[0m \u001b[0;34m<\u001b[0m \u001b[0mthreshold\u001b[0m\u001b[0;34m)\u001b[0m \u001b[0;34m*\u001b[0m \u001b[0mdiff_frames\u001b[0m\u001b[0;34m\u001b[0m\u001b[0;34m\u001b[0m\u001b[0m\n\u001b[1;32m     12\u001b[0m \u001b[0;34m\u001b[0m\u001b[0m\n\u001b[0;32m---> 13\u001b[0;31m     \u001b[0mtanh_diff\u001b[0m \u001b[0;34m=\u001b[0m \u001b[0mnp\u001b[0m\u001b[0;34m.\u001b[0m\u001b[0mtanh\u001b[0m\u001b[0;34m(\u001b[0m\u001b[0mthreshold_diff\u001b[0m\u001b[0;34m)\u001b[0m\u001b[0;34m.\u001b[0m\u001b[0mastype\u001b[0m\u001b[0;34m(\u001b[0m\u001b[0mnp\u001b[0m\u001b[0;34m.\u001b[0m\u001b[0muint8\u001b[0m\u001b[0;34m)\u001b[0m\u001b[0;34m\u001b[0m\u001b[0;34m\u001b[0m\u001b[0m\n\u001b[0m\u001b[1;32m     14\u001b[0m     \u001b[0mtanh_diff\u001b[0m \u001b[0;34m=\u001b[0m \u001b[0mnp\u001b[0m\u001b[0;34m.\u001b[0m\u001b[0mwhere\u001b[0m\u001b[0;34m(\u001b[0m\u001b[0mtanh_diff\u001b[0m \u001b[0;34m!=\u001b[0m \u001b[0;36m0\u001b[0m\u001b[0;34m,\u001b[0m \u001b[0mON\u001b[0m\u001b[0;34m,\u001b[0m \u001b[0mOFF\u001b[0m\u001b[0;34m)\u001b[0m\u001b[0;34m\u001b[0m\u001b[0;34m\u001b[0m\u001b[0m\n\u001b[1;32m     15\u001b[0m \u001b[0;34m\u001b[0m\u001b[0m\n",
      "\u001b[0;31mAttributeError\u001b[0m: 'Tensor' object has no attribute 'astype'"
     ]
    },
    {
     "data": {
      "image/png": "[encoded data removed]",
      "text/plain": [
       "<Figure size 480x320 with 1 Axes>"
      ]
     },
     "metadata": {
      "needs_background": "light"
     },
     "output_type": "display_data"
    }
   ],
   "source": [
    "loop = tqdm_notebook(range(2000))\n",
    "laplacian_losses = []\n",
    "flatten_losses = []\n",
    "silhouette_losses = []\n",
    "\n",
    "for i in loop:\n",
    "    \n",
    "    mesh, laplacian_loss, flatten_loss = model(len(images_gt))\n",
    "\n",
    "    images_pred = silhouette_renderer(mesh.clone(), device=device, cameras=cameras)\n",
    "    events_pred = []\n",
    "    prev_img = images_pred[0]\n",
    "    for img in images_pred[1:-1]:\n",
    "        ev = event_renderer(np.array())\n",
    "        events_pred.append(event_renderer(prev_img.detach().squeeze(), img.detach().squeeze()))\n",
    "    \n",
    "    silhouette_loss = neg_iou_loss(images_gt, images_pred[..., -1])\n",
    "    #ssd_loss = torch.sum((images_gt - images_pred[...,-1]) ** 2).mean()\n",
    "    \n",
    "    loss = silhouette_loss * weight_silhouette + laplacian_loss * weight_laplacian + flatten_loss * weight_flatten\n",
    "    \n",
    "    loop.set_description('Optimizing (loss %.4f)' % loss.data)\n",
    "    \n",
    "    silhouette_losses.append(silhouette_loss * weight_silhouette)\n",
    "    laplacian_losses.append(laplacian_loss * weight_laplacian)\n",
    "    flatten_losses.append(flatten_loss * weight_flatten)\n",
    "    \n",
    "    optimizer.zero_grad()\n",
    "    loss.backward()\n",
    "    optimizer.step()\n",
    "    \n",
    "    if i % 100 == 0:\n",
    "        #Write images\n",
    "        image = images_pred.detach().cpu().numpy()[0]\n",
    "        writer.append_data((255*image).astype(np.uint8))\n",
    "        imageio.imsave(f\"data/dump/mesh_{i}.png\", (255*image).astype(np.uint8))\n",
    "        \n",
    "        f, (ax1, ax2) = plt.subplots(1, 2)\n",
    "        \n",
    "        image = img_as_ubyte(image)\n",
    "        ax1.imshow(image)\n",
    "        ax1.set_title(\"Deformed Mesh\")\n",
    "        \n",
    "        ax2.plot(silhouette_losses, label=\"Silhouette Loss\")\n",
    "        ax2.plot(laplacian_losses, label=\"Laplacian Loss\")\n",
    "        ax2.plot(flatten_losses, label=\"Flatten Loss\")\n",
    "        ax2.legend(fontsize=\"16\")\n",
    "        ax2.set_xlabel(\"Iteration\", fontsize=\"16\")\n",
    "        ax2.set_ylabel(\"Loss\", fontsize=\"16\")\n",
    "        ax2.set_title(\"Loss vs iterations\", fontsize=\"16\")\n",
    "        \n",
    "        plt.show()\n",
    "    "
   ]
  },
  {
   "cell_type": "code",
   "execution_count": null,
   "metadata": {},
   "outputs": [],
   "source": [
    "print(images_pred[..., -1].shape)\n",
    "images_pred[..., -1]"
   ]
  },
  {
   "cell_type": "code",
   "execution_count": null,
   "metadata": {},
   "outputs": [],
   "source": [
    "print(images_gt.shape)\n",
    "images_gt / 255\n"
   ]
  },
  {
   "cell_type": "code",
   "execution_count": null,
   "metadata": {},
   "outputs": [],
   "source": [
    "R[0]\n",
    "T[0]"
   ]
  },
  {
   "cell_type": "code",
   "execution_count": null,
   "metadata": {},
   "outputs": [],
   "source": []
  }
 ],
 "metadata": {
  "kernelspec": {
   "display_name": "Pytorch3D",
   "language": "python",
   "name": "pytorch3d"
  },
  "language_info": {
   "codemirror_mode": {
    "name": "ipython",
    "version": 3
   },
   "file_extension": ".py",
   "mimetype": "text/x-python",
   "name": "python",
   "nbconvert_exporter": "python",
   "pygments_lexer": "ipython3",
   "version": "3.7.7"
  }
 },
 "nbformat": 4,
 "nbformat_minor": 4
}
